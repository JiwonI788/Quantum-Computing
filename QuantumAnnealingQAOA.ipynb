{
 "cells": [
  {
   "cell_type": "code",
   "execution_count": 9,
   "metadata": {},
   "outputs": [
    {
     "ename": "AttributeError",
     "evalue": "module 'networkx.algorithms' has no attribute 'ising'",
     "output_type": "error",
     "traceback": [
      "\u001b[0;31m---------------------------------------------------------------------------\u001b[0m",
      "\u001b[0;31mAttributeError\u001b[0m                            Traceback (most recent call last)",
      "Cell \u001b[0;32mIn[9], line 12\u001b[0m\n\u001b[1;32m      9\u001b[0m graph\u001b[39m.\u001b[39madd_edges_from([(\u001b[39m0\u001b[39m, \u001b[39m1\u001b[39m), (\u001b[39m0\u001b[39m, \u001b[39m2\u001b[39m), (\u001b[39m1\u001b[39m, \u001b[39m2\u001b[39m), (\u001b[39m2\u001b[39m, \u001b[39m3\u001b[39m)])\n\u001b[1;32m     11\u001b[0m \u001b[39m# Create the Ising model from the graph\u001b[39;00m\n\u001b[0;32m---> 12\u001b[0m ising_model \u001b[39m=\u001b[39m nx\u001b[39m.\u001b[39;49malgorithms\u001b[39m.\u001b[39;49mising\u001b[39m.\u001b[39mtransverse_ising(graph)\n\u001b[1;32m     14\u001b[0m \u001b[39m# Define the QAOA circuit\u001b[39;00m\n\u001b[1;32m     15\u001b[0m num_qubits \u001b[39m=\u001b[39m \u001b[39mlen\u001b[39m(graph\u001b[39m.\u001b[39mnodes)\n",
      "\u001b[0;31mAttributeError\u001b[0m: module 'networkx.algorithms' has no attribute 'ising'"
     ]
    }
   ],
   "source": [
    "# chat GPT\n",
    "# an example code snippet using Qiskit, a popular quantum computing framework, to demonstrate how to implement the QAOA algorithm for finding the minimum vertex cover in a graph:\n",
    "import networkx as nx\n",
    "import numpy as np\n",
    "from qiskit import QuantumCircuit, Aer, execute\n",
    "\n",
    "# Define the graph\n",
    "graph = nx.Graph()\n",
    "graph.add_edges_from([(0, 1), (0, 2), (1, 2), (2, 3)])\n",
    "\n",
    "# Create the Ising model from the graph\n",
    "ising_model = nx.algorithms.ising.transverse_ising(graph)\n",
    "\n",
    "# Define the QAOA circuit\n",
    "num_qubits = len(graph.nodes)\n",
    "num_layers = 2  # Number of QAOA layers\n",
    "gamma = np.random.uniform(0, 2*np.pi, size=num_layers)\n",
    "beta = np.random.uniform(0, np.pi, size=num_layers)\n",
    "\n",
    "# Create the quantum circuit\n",
    "qc = QuantumCircuit(num_qubits)\n",
    "\n",
    "# Apply initial Hadamard gates\n",
    "qc.h(range(num_qubits))\n",
    "\n",
    "# Apply the QAOA layers\n",
    "for layer in range(num_layers):\n",
    "    # Apply the problem-specific operator\n",
    "    for edge in ising_model.edges:\n",
    "        qc.rzz(gamma[layer], edge[0], edge[1])\n",
    "    # Apply the mixing operator\n",
    "    qc.rx(2 * beta[layer], range(num_qubits))\n",
    "\n",
    "# Measure the qubits\n",
    "qc.measure_all()\n",
    "\n",
    "# Simulate the quantum circuit\n",
    "backend = Aer.get_backend('qasm_simulator')\n",
    "job = execute(qc, backend, shots=1000)\n",
    "result = job.result()\n",
    "\n",
    "# Retrieve the measurement outcomes\n",
    "counts = result.get_counts(qc)\n",
    "\n",
    "# Find the minimum vertex cover from the measurement outcomes\n",
    "min_vertex_cover = min(counts, key=counts.get)\n",
    "\n",
    "print(\"Minimum Vertex Cover:\", min_vertex_cover)\n",
    "\n"
   ]
  },
  {
   "cell_type": "code",
   "execution_count": 10,
   "metadata": {},
   "outputs": [
    {
     "name": "stdout",
     "output_type": "stream",
     "text": [
      "\u001b[31mERROR: Could not find a version that satisfies the requirement networkx.algorithms.ising (from versions: none)\u001b[0m\u001b[31m\n",
      "\u001b[0m\u001b[31mERROR: No matching distribution found for networkx.algorithms.ising\u001b[0m\u001b[31m\n",
      "\u001b[0m"
     ]
    }
   ],
   "source": [
    "!pip install networkx.algorithms.ising"
   ]
  },
  {
   "cell_type": "code",
   "execution_count": 12,
   "metadata": {},
   "outputs": [
    {
     "ename": "ModuleNotFoundError",
     "evalue": "No module named 'qiskit.aqua'",
     "output_type": "error",
     "traceback": [
      "\u001b[0;31m---------------------------------------------------------------------------\u001b[0m",
      "\u001b[0;31mModuleNotFoundError\u001b[0m                       Traceback (most recent call last)",
      "Cell \u001b[0;32mIn[12], line 4\u001b[0m\n\u001b[1;32m      2\u001b[0m \u001b[39mimport\u001b[39;00m \u001b[39mnumpy\u001b[39;00m \u001b[39mas\u001b[39;00m \u001b[39mnp\u001b[39;00m\n\u001b[1;32m      3\u001b[0m \u001b[39mfrom\u001b[39;00m \u001b[39mqiskit\u001b[39;00m \u001b[39mimport\u001b[39;00m QuantumCircuit, Aer, execute\n\u001b[0;32m----> 4\u001b[0m \u001b[39mfrom\u001b[39;00m \u001b[39mqiskit\u001b[39;00m\u001b[39m.\u001b[39;00m\u001b[39maqua\u001b[39;00m\u001b[39m.\u001b[39;00m\u001b[39moperators\u001b[39;00m \u001b[39mimport\u001b[39;00m Operator, X, Z\n\u001b[1;32m      6\u001b[0m \u001b[39m# Define the graph\u001b[39;00m\n\u001b[1;32m      7\u001b[0m graph \u001b[39m=\u001b[39m nx\u001b[39m.\u001b[39mGraph()\n",
      "\u001b[0;31mModuleNotFoundError\u001b[0m: No module named 'qiskit.aqua'"
     ]
    }
   ],
   "source": [
    "import networkx as nx\n",
    "import numpy as np\n",
    "from qiskit import QuantumCircuit, Aer, execute\n",
    "from qiskit.aqua.operators import Operator, X, Z\n",
    "\n",
    "# Define the graph\n",
    "graph = nx.Graph()\n",
    "graph.add_edges_from([(0, 1), (0, 2), (1, 2), (2, 3)])\n",
    "\n",
    "# Create the Ising model from the graph\n",
    "ising_model = Operator(graph.to_undirected())\n",
    "\n",
    "# Define the QAOA circuit\n",
    "num_qubits = len(graph.nodes)\n",
    "num_layers = 2  # Number of QAOA layers\n",
    "gamma = np.random.uniform(0, 2 * np.pi, size=num_layers)\n",
    "beta = np.random.uniform(0, np.pi, size=num_layers)\n",
    "\n",
    "# Create the quantum circuit\n",
    "qc = QuantumCircuit(num_qubits)\n",
    "\n",
    "# Apply initial Hadamard gates\n",
    "qc.h(range(num_qubits))\n",
    "\n",
    "# Apply the QAOA layers\n",
    "for layer in range(num_layers):\n",
    "    # Apply the problem-specific operator\n",
    "    qc.append(ising_model, [i for i in range(num_qubits)])\n",
    "    qc.barrier()\n",
    "\n",
    "    # Apply the mixing operator\n",
    "    qc.rx(2 * beta[layer], range(num_qubits))\n",
    "    qc.barrier()\n",
    "\n",
    "# Measure the qubits\n",
    "qc.measure_all()\n",
    "\n",
    "# Simulate the quantum circuit\n",
    "backend = Aer.get_backend('qasm_simulator')\n",
    "job = execute(qc, backend, shots=1000)\n",
    "result = job.result()\n",
    "\n",
    "# Retrieve the measurement outcomes\n",
    "counts = result.get_counts(qc)\n",
    "\n",
    "# Find the minimum vertex cover from the measurement outcomes\n",
    "min_vertex_cover = min(counts, key=counts.get)\n",
    "\n",
    "print(\"Minimum Vertex Cover:\", min_vertex_cover)\n"
   ]
  },
  {
   "cell_type": "code",
   "execution_count": 11,
   "metadata": {},
   "outputs": [
    {
     "name": "stdout",
     "output_type": "stream",
     "text": [
      "Requirement already satisfied: qiskit.aqua in /Users/jiwonju/opt/anaconda3/lib/python3.9/site-packages (0.9.5)\n",
      "Requirement already satisfied: qiskit-terra>=0.18.0 in /Users/jiwonju/opt/anaconda3/lib/python3.9/site-packages (from qiskit.aqua) (0.23.2)\n",
      "Requirement already satisfied: qiskit-ignis>=0.6.0 in /Users/jiwonju/opt/anaconda3/lib/python3.9/site-packages (from qiskit.aqua) (0.7.1)\n",
      "Requirement already satisfied: scipy>=1.4 in /Users/jiwonju/opt/anaconda3/lib/python3.9/site-packages (from qiskit.aqua) (1.9.1)\n",
      "Requirement already satisfied: sympy>=1.3 in /Users/jiwonju/opt/anaconda3/lib/python3.9/site-packages (from qiskit.aqua) (1.10.1)\n",
      "Requirement already satisfied: numpy>=1.17 in /Users/jiwonju/opt/anaconda3/lib/python3.9/site-packages (from qiskit.aqua) (1.21.5)\n",
      "Requirement already satisfied: psutil>=5 in /Users/jiwonju/opt/anaconda3/lib/python3.9/site-packages (from qiskit.aqua) (5.9.0)\n",
      "Requirement already satisfied: scikit-learn>=0.20.0 in /Users/jiwonju/opt/anaconda3/lib/python3.9/site-packages (from qiskit.aqua) (1.0.2)\n",
      "Requirement already satisfied: dlx<=1.0.4 in /Users/jiwonju/opt/anaconda3/lib/python3.9/site-packages (from qiskit.aqua) (1.0.4)\n",
      "Requirement already satisfied: docplex>=2.21.207 in /Users/jiwonju/opt/anaconda3/lib/python3.9/site-packages (from qiskit.aqua) (2.25.236)\n",
      "Requirement already satisfied: fastdtw<=0.3.4 in /Users/jiwonju/opt/anaconda3/lib/python3.9/site-packages (from qiskit.aqua) (0.3.4)\n",
      "Requirement already satisfied: setuptools>=40.1.0 in /Users/jiwonju/opt/anaconda3/lib/python3.9/site-packages (from qiskit.aqua) (63.4.1)\n",
      "Requirement already satisfied: h5py<3.3.0 in /Users/jiwonju/opt/anaconda3/lib/python3.9/site-packages (from qiskit.aqua) (3.2.1)\n",
      "Requirement already satisfied: pandas in /Users/jiwonju/opt/anaconda3/lib/python3.9/site-packages (from qiskit.aqua) (1.4.4)\n",
      "Requirement already satisfied: quandl in /Users/jiwonju/opt/anaconda3/lib/python3.9/site-packages (from qiskit.aqua) (3.7.0)\n",
      "Requirement already satisfied: yfinance>=0.1.62 in /Users/jiwonju/opt/anaconda3/lib/python3.9/site-packages (from qiskit.aqua) (0.2.18)\n",
      "Requirement already satisfied: retworkx>=0.8.0 in /Users/jiwonju/opt/anaconda3/lib/python3.9/site-packages (from qiskit.aqua) (0.12.1)\n",
      "Requirement already satisfied: six in /Users/jiwonju/opt/anaconda3/lib/python3.9/site-packages (from docplex>=2.21.207->qiskit.aqua) (1.16.0)\n",
      "Requirement already satisfied: rustworkx>=0.12.0 in /Users/jiwonju/opt/anaconda3/lib/python3.9/site-packages (from qiskit-terra>=0.18.0->qiskit.aqua) (0.12.1)\n",
      "Requirement already satisfied: ply>=3.10 in /Users/jiwonju/opt/anaconda3/lib/python3.9/site-packages (from qiskit-terra>=0.18.0->qiskit.aqua) (3.11)\n",
      "Requirement already satisfied: dill>=0.3 in /Users/jiwonju/opt/anaconda3/lib/python3.9/site-packages (from qiskit-terra>=0.18.0->qiskit.aqua) (0.3.4)\n",
      "Requirement already satisfied: python-dateutil>=2.8.0 in /Users/jiwonju/opt/anaconda3/lib/python3.9/site-packages (from qiskit-terra>=0.18.0->qiskit.aqua) (2.8.2)\n",
      "Requirement already satisfied: stevedore>=3.0.0 in /Users/jiwonju/opt/anaconda3/lib/python3.9/site-packages (from qiskit-terra>=0.18.0->qiskit.aqua) (5.0.0)\n",
      "Requirement already satisfied: symengine>=0.9 in /Users/jiwonju/opt/anaconda3/lib/python3.9/site-packages (from qiskit-terra>=0.18.0->qiskit.aqua) (0.9.2)\n",
      "Requirement already satisfied: joblib>=0.11 in /Users/jiwonju/opt/anaconda3/lib/python3.9/site-packages (from scikit-learn>=0.20.0->qiskit.aqua) (1.1.0)\n",
      "Requirement already satisfied: threadpoolctl>=2.0.0 in /Users/jiwonju/opt/anaconda3/lib/python3.9/site-packages (from scikit-learn>=0.20.0->qiskit.aqua) (2.2.0)\n",
      "Requirement already satisfied: mpmath>=0.19 in /Users/jiwonju/opt/anaconda3/lib/python3.9/site-packages (from sympy>=1.3->qiskit.aqua) (1.2.1)\n",
      "Requirement already satisfied: requests>=2.26 in /Users/jiwonju/opt/anaconda3/lib/python3.9/site-packages (from yfinance>=0.1.62->qiskit.aqua) (2.28.1)\n",
      "Requirement already satisfied: multitasking>=0.0.7 in /Users/jiwonju/opt/anaconda3/lib/python3.9/site-packages (from yfinance>=0.1.62->qiskit.aqua) (0.0.11)\n",
      "Requirement already satisfied: lxml>=4.9.1 in /Users/jiwonju/opt/anaconda3/lib/python3.9/site-packages (from yfinance>=0.1.62->qiskit.aqua) (4.9.1)\n",
      "Requirement already satisfied: appdirs>=1.4.4 in /Users/jiwonju/opt/anaconda3/lib/python3.9/site-packages (from yfinance>=0.1.62->qiskit.aqua) (1.4.4)\n",
      "Requirement already satisfied: pytz>=2022.5 in /Users/jiwonju/opt/anaconda3/lib/python3.9/site-packages (from yfinance>=0.1.62->qiskit.aqua) (2023.3)\n",
      "Requirement already satisfied: frozendict>=2.3.4 in /Users/jiwonju/opt/anaconda3/lib/python3.9/site-packages (from yfinance>=0.1.62->qiskit.aqua) (2.3.8)\n",
      "Requirement already satisfied: cryptography>=3.3.2 in /Users/jiwonju/opt/anaconda3/lib/python3.9/site-packages (from yfinance>=0.1.62->qiskit.aqua) (37.0.1)\n",
      "Requirement already satisfied: beautifulsoup4>=4.11.1 in /Users/jiwonju/opt/anaconda3/lib/python3.9/site-packages (from yfinance>=0.1.62->qiskit.aqua) (4.11.1)\n",
      "Requirement already satisfied: html5lib>=1.1 in /Users/jiwonju/opt/anaconda3/lib/python3.9/site-packages (from yfinance>=0.1.62->qiskit.aqua) (1.1)\n",
      "Requirement already satisfied: inflection>=0.3.1 in /Users/jiwonju/opt/anaconda3/lib/python3.9/site-packages (from quandl->qiskit.aqua) (0.5.1)\n",
      "Requirement already satisfied: more-itertools in /Users/jiwonju/opt/anaconda3/lib/python3.9/site-packages (from quandl->qiskit.aqua) (9.1.0)\n",
      "Requirement already satisfied: soupsieve>1.2 in /Users/jiwonju/opt/anaconda3/lib/python3.9/site-packages (from beautifulsoup4>=4.11.1->yfinance>=0.1.62->qiskit.aqua) (2.3.1)\n",
      "Requirement already satisfied: cffi>=1.12 in /Users/jiwonju/opt/anaconda3/lib/python3.9/site-packages (from cryptography>=3.3.2->yfinance>=0.1.62->qiskit.aqua) (1.15.1)\n",
      "Requirement already satisfied: webencodings in /Users/jiwonju/opt/anaconda3/lib/python3.9/site-packages (from html5lib>=1.1->yfinance>=0.1.62->qiskit.aqua) (0.5.1)\n",
      "Requirement already satisfied: charset-normalizer<3,>=2 in /Users/jiwonju/opt/anaconda3/lib/python3.9/site-packages (from requests>=2.26->yfinance>=0.1.62->qiskit.aqua) (2.0.4)\n",
      "Requirement already satisfied: idna<4,>=2.5 in /Users/jiwonju/opt/anaconda3/lib/python3.9/site-packages (from requests>=2.26->yfinance>=0.1.62->qiskit.aqua) (3.3)\n",
      "Requirement already satisfied: urllib3<1.27,>=1.21.1 in /Users/jiwonju/opt/anaconda3/lib/python3.9/site-packages (from requests>=2.26->yfinance>=0.1.62->qiskit.aqua) (1.26.11)\n",
      "Requirement already satisfied: certifi>=2017.4.17 in /Users/jiwonju/opt/anaconda3/lib/python3.9/site-packages (from requests>=2.26->yfinance>=0.1.62->qiskit.aqua) (2022.9.24)\n",
      "Requirement already satisfied: pbr!=2.1.0,>=2.0.0 in /Users/jiwonju/opt/anaconda3/lib/python3.9/site-packages (from stevedore>=3.0.0->qiskit-terra>=0.18.0->qiskit.aqua) (5.11.1)\n",
      "Requirement already satisfied: pycparser in /Users/jiwonju/opt/anaconda3/lib/python3.9/site-packages (from cffi>=1.12->cryptography>=3.3.2->yfinance>=0.1.62->qiskit.aqua) (2.21)\n"
     ]
    }
   ],
   "source": [
    "!pip install qiskit.aqua"
   ]
  },
  {
   "cell_type": "code",
   "execution_count": 6,
   "metadata": {},
   "outputs": [
    {
     "name": "stdout",
     "output_type": "stream",
     "text": [
      "Requirement already satisfied: pip in /Users/jiwonju/opt/anaconda3/lib/python3.9/site-packages (23.1.1)\n",
      "Collecting pip\n",
      "  Downloading pip-23.1.2-py3-none-any.whl (2.1 MB)\n",
      "\u001b[2K     \u001b[90m━━━━━━━━━━━━━━━━━━━━━━━━━━━━━━━━━━━━━━━━\u001b[0m \u001b[32m2.1/2.1 MB\u001b[0m \u001b[31m20.1 MB/s\u001b[0m eta \u001b[36m0:00:00\u001b[0ma \u001b[36m0:00:01\u001b[0m\n",
      "\u001b[?25hInstalling collected packages: pip\n",
      "  Attempting uninstall: pip\n",
      "    Found existing installation: pip 23.1.1\n",
      "    Uninstalling pip-23.1.1:\n",
      "      Successfully uninstalled pip-23.1.1\n",
      "Successfully installed pip-23.1.2\n"
     ]
    }
   ],
   "source": [
    "!pip install --upgrade pip"
   ]
  },
  {
   "cell_type": "code",
   "execution_count": null,
   "metadata": {},
   "outputs": [],
   "source": []
  }
 ],
 "metadata": {
  "kernelspec": {
   "display_name": "Python 3",
   "language": "python",
   "name": "python3"
  },
  "language_info": {
   "codemirror_mode": {
    "name": "ipython",
    "version": 3
   },
   "file_extension": ".py",
   "mimetype": "text/x-python",
   "name": "python",
   "nbconvert_exporter": "python",
   "pygments_lexer": "ipython3",
   "version": "3.9.6 (default, Sep 26 2022, 11:37:49) \n[Clang 14.0.0 (clang-1400.0.29.202)]"
  },
  "orig_nbformat": 4,
  "vscode": {
   "interpreter": {
    "hash": "31f2aee4e71d21fbe5cf8b01ff0e069b9275f58929596ceb00d14d90e3e16cd6"
   }
  }
 },
 "nbformat": 4,
 "nbformat_minor": 2
}
