{
 "cells": [
  {
   "attachments": {},
   "cell_type": "markdown",
   "metadata": {},
   "source": [
    "# 量子化学計算を量子コンピューターで実装する\n",
    "\n",
    "#### reference\n",
    "1. Qiskit textbook :量子ビット空間へのマッピング\n",
    "https://qiskit.org/ecosystem/nature/locale/ja_JP/tutorials/06_qubit_mappers.html\n",
    "\n",
    "電子構造\n",
    "https://qiskit.org/documentation/stable/0.25/locale/ja_JP/tutorials/chemistry/01_electronic_structure.html\n",
    "\n",
    "2. 『量子コンピューティング：基本アルゴリズムから量子機械学習まで』4.2.4章\n",
    "\n",
    "3. Qulacs : OpenFermionの使い方\n",
    "https://dojo.qulacs.org/ja/latest/notebooks/6.1_openfermion_basics.html"
   ]
  },
  {
   "cell_type": "code",
   "execution_count": 6,
   "metadata": {},
   "outputs": [],
   "source": [
    "# Importing standard Qiskit libraries\n",
    "from qiskit import QuantumCircuit, transpile\n",
    "from qiskit.tools.jupyter import *\n",
    "from qiskit.visualization import *\n",
    "# from ibm_quantum_widgets import *\n",
    "\n",
    "# qiskit-ibmq-provider has been deprecated.\n",
    "# Please see the Migration Guides in https://ibm.biz/provider_migration_guide for more detail.\n",
    "from qiskit_ibm_runtime import QiskitRuntimeService, Sampler, Estimator, Session, Options\n",
    "\n",
    "# Loading your IBM Quantum account(s)\n",
    "service = QiskitRuntimeService(channel=\"ibm_quantum\")\n",
    "\n",
    "# Invoke a primitive. For more details see https://qiskit.org/documentation/partners/qiskit_ibm_runtime/tutorials.html\n",
    "# result = Sampler(\"ibmq_qasm_simulator\").run(circuits).result()"
   ]
  },
  {
   "cell_type": "code",
   "execution_count": 7,
   "metadata": {},
   "outputs": [
    {
     "ename": "ModuleNotFoundError",
     "evalue": "No module named 'qiskit_nature'",
     "output_type": "error",
     "traceback": [
      "\u001b[0;31m---------------------------------------------------------------------------\u001b[0m",
      "\u001b[0;31mModuleNotFoundError\u001b[0m                       Traceback (most recent call last)",
      "Cell \u001b[0;32mIn[7], line 2\u001b[0m\n\u001b[1;32m      1\u001b[0m \u001b[39m#[量子ビット空間へのマッピング](https://qiskit.org/ecosystem/nature/locale/ja_JP/tutorials/06_qubit_mappers.html)\u001b[39;00m\n\u001b[0;32m----> 2\u001b[0m \u001b[39mfrom\u001b[39;00m \u001b[39mqiskit_nature\u001b[39;00m\u001b[39m.\u001b[39;00m\u001b[39msecond_q\u001b[39;00m\u001b[39m.\u001b[39;00m\u001b[39mdrivers\u001b[39;00m \u001b[39mimport\u001b[39;00m PySCFDriver\n",
      "\u001b[0;31mModuleNotFoundError\u001b[0m: No module named 'qiskit_nature'"
     ]
    }
   ],
   "source": [
    "#[量子ビット空間へのマッピング](https://qiskit.org/ecosystem/nature/locale/ja_JP/tutorials/06_qubit_mappers.html)\n",
    "from qiskit_nature.second_q.drivers import PySCFDriver"
   ]
  },
  {
   "cell_type": "code",
   "execution_count": 2,
   "metadata": {},
   "outputs": [
    {
     "name": "stdout",
     "output_type": "stream",
     "text": [
      "Collecting qiskit_nature\n",
      "  Downloading qiskit_nature-0.6.2-py3-none-any.whl (4.1 MB)\n",
      "\u001b[2K     \u001b[90m━━━━━━━━━━━━━━━━━━━━━━━━━━━━━━━━━━━━━━━━\u001b[0m \u001b[32m4.1/4.1 MB\u001b[0m \u001b[31m9.6 MB/s\u001b[0m eta \u001b[36m0:00:00\u001b[0m:00:01\u001b[0m00:01\u001b[0m\n",
      "\u001b[?25hCollecting qiskit-terra>=0.24 (from qiskit_nature)\n",
      "  Downloading qiskit_terra-0.24.1-cp39-cp39-macosx_10_9_x86_64.whl (5.2 MB)\n",
      "\u001b[2K     \u001b[90m━━━━━━━━━━━━━━━━━━━━━━━━━━━━━━━━━━━━━━━━\u001b[0m \u001b[32m5.2/5.2 MB\u001b[0m \u001b[31m6.4 MB/s\u001b[0m eta \u001b[36m0:00:00\u001b[0m00:01\u001b[0m00:01\u001b[0mm\n",
      "\u001b[?25hRequirement already satisfied: scipy>=1.4 in /Users/jiwonju/opt/anaconda3/lib/python3.9/site-packages (from qiskit_nature) (1.9.1)\n",
      "Requirement already satisfied: numpy>=1.17 in /Users/jiwonju/opt/anaconda3/lib/python3.9/site-packages (from qiskit_nature) (1.21.5)\n",
      "Requirement already satisfied: psutil>=5 in /Users/jiwonju/opt/anaconda3/lib/python3.9/site-packages (from qiskit_nature) (5.9.0)\n",
      "Requirement already satisfied: scikit-learn>=0.20.0 in /Users/jiwonju/opt/anaconda3/lib/python3.9/site-packages (from qiskit_nature) (1.0.2)\n",
      "Requirement already satisfied: setuptools>=40.1.0 in /Users/jiwonju/opt/anaconda3/lib/python3.9/site-packages (from qiskit_nature) (63.4.1)\n",
      "Requirement already satisfied: typing-extensions in /Users/jiwonju/opt/anaconda3/lib/python3.9/site-packages (from qiskit_nature) (4.3.0)\n",
      "Requirement already satisfied: h5py in /Users/jiwonju/opt/anaconda3/lib/python3.9/site-packages (from qiskit_nature) (3.2.1)\n",
      "Requirement already satisfied: rustworkx in /Users/jiwonju/opt/anaconda3/lib/python3.9/site-packages (from qiskit_nature) (0.12.1)\n",
      "Requirement already satisfied: ply>=3.10 in /Users/jiwonju/opt/anaconda3/lib/python3.9/site-packages (from qiskit-terra>=0.24->qiskit_nature) (3.11)\n",
      "Requirement already satisfied: sympy>=1.3 in /Users/jiwonju/opt/anaconda3/lib/python3.9/site-packages (from qiskit-terra>=0.24->qiskit_nature) (1.10.1)\n",
      "Requirement already satisfied: dill>=0.3 in /Users/jiwonju/opt/anaconda3/lib/python3.9/site-packages (from qiskit-terra>=0.24->qiskit_nature) (0.3.4)\n",
      "Requirement already satisfied: python-dateutil>=2.8.0 in /Users/jiwonju/opt/anaconda3/lib/python3.9/site-packages (from qiskit-terra>=0.24->qiskit_nature) (2.8.2)\n",
      "Requirement already satisfied: stevedore>=3.0.0 in /Users/jiwonju/opt/anaconda3/lib/python3.9/site-packages (from qiskit-terra>=0.24->qiskit_nature) (5.0.0)\n",
      "Requirement already satisfied: symengine<0.10,>=0.9 in /Users/jiwonju/opt/anaconda3/lib/python3.9/site-packages (from qiskit-terra>=0.24->qiskit_nature) (0.9.2)\n",
      "Requirement already satisfied: joblib>=0.11 in /Users/jiwonju/opt/anaconda3/lib/python3.9/site-packages (from scikit-learn>=0.20.0->qiskit_nature) (1.1.0)\n",
      "Requirement already satisfied: threadpoolctl>=2.0.0 in /Users/jiwonju/opt/anaconda3/lib/python3.9/site-packages (from scikit-learn>=0.20.0->qiskit_nature) (2.2.0)\n",
      "Requirement already satisfied: six>=1.5 in /Users/jiwonju/opt/anaconda3/lib/python3.9/site-packages (from python-dateutil>=2.8.0->qiskit-terra>=0.24->qiskit_nature) (1.16.0)\n",
      "Requirement already satisfied: pbr!=2.1.0,>=2.0.0 in /Users/jiwonju/opt/anaconda3/lib/python3.9/site-packages (from stevedore>=3.0.0->qiskit-terra>=0.24->qiskit_nature) (5.11.1)\n",
      "Requirement already satisfied: mpmath>=0.19 in /Users/jiwonju/opt/anaconda3/lib/python3.9/site-packages (from sympy>=1.3->qiskit-terra>=0.24->qiskit_nature) (1.2.1)\n",
      "Installing collected packages: qiskit-terra, qiskit_nature\n",
      "  Attempting uninstall: qiskit-terra\n",
      "    Found existing installation: qiskit-terra 0.23.2\n",
      "    Uninstalling qiskit-terra-0.23.2:\n",
      "      Successfully uninstalled qiskit-terra-0.23.2\n",
      "\u001b[31mERROR: pip's dependency resolver does not currently take into account all the packages that are installed. This behaviour is the source of the following dependency conflicts.\n",
      "qiskit 0.41.1 requires qiskit-terra==0.23.2, but you have qiskit-terra 0.24.1 which is incompatible.\n",
      "qiskit-ibmq-provider 0.20.1 requires qiskit-terra~=0.23.0, but you have qiskit-terra 0.24.1 which is incompatible.\u001b[0m\u001b[31m\n",
      "\u001b[0mSuccessfully installed qiskit-terra-0.24.1 qiskit_nature-0.6.2\n"
     ]
    }
   ],
   "source": [
    "!pip install qiskit_nature"
   ]
  },
  {
   "cell_type": "code",
   "execution_count": null,
   "metadata": {},
   "outputs": [],
   "source": [
    "!pip update qiski"
   ]
  }
 ],
 "metadata": {
  "kernelspec": {
   "display_name": "Python 3",
   "language": "python",
   "name": "python3"
  },
  "language_info": {
   "codemirror_mode": {
    "name": "ipython",
    "version": 3
   },
   "file_extension": ".py",
   "mimetype": "text/x-python",
   "name": "python",
   "nbconvert_exporter": "python",
   "pygments_lexer": "ipython3",
   "version": "3.9.6"
  },
  "orig_nbformat": 4,
  "vscode": {
   "interpreter": {
    "hash": "31f2aee4e71d21fbe5cf8b01ff0e069b9275f58929596ceb00d14d90e3e16cd6"
   }
  }
 },
 "nbformat": 4,
 "nbformat_minor": 2
}
